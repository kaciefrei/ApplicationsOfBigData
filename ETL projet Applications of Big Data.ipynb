{
 "cells": [
  {
   "cell_type": "markdown",
   "id": "45bf874d",
   "metadata": {},
   "source": [
    "# ETL : Projet Applications of Big Data\n",
    "## Kaci Bouaouli - Abel Boudaib - Nadjib Khammar - DE1"
   ]
  },
  {
   "cell_type": "markdown",
   "id": "93033edb",
   "metadata": {},
   "source": [
    "### 1) Fusion des plusieurs fichiers CSV en un seul + Ajout d'une colonne \"username\" en utilisant le nom du fichier d'origine"
   ]
  },
  {
   "cell_type": "code",
   "execution_count": 6,
   "id": "7da6b49a",
   "metadata": {},
   "outputs": [
    {
     "name": "stdout",
     "output_type": "stream",
     "text": [
      "Traitement du fichier : AkaGambit.csv\n",
      "Traitement du fichier : alexlray.csv\n",
      "Traitement du fichier : animefreekben.csv\n",
      "Traitement du fichier : apatel158.csv\n",
      "Traitement du fichier : artangelo.csv\n",
      "Traitement du fichier : AscendingNode.csv\n",
      "Traitement du fichier : avarthar.csv\n",
      "Traitement du fichier : axoaxoaxo.csv\n",
      "Traitement du fichier : Champignonette.csv\n",
      "Traitement du fichier : codycollett.csv\n",
      "Traitement du fichier : crimetays.csv\n",
      "Traitement du fichier : czarrep13.csv\n",
      "Traitement du fichier : d0ras.csv\n",
      "Traitement du fichier : DuckDAWorld.csv\n",
      "Traitement du fichier : fl6stringer.csv\n",
      "Traitement du fichier : Guigt77.csv\n",
      "Traitement du fichier : Hanhvunt2002.csv\n",
      "Traitement du fichier : HeyDottore.csv\n",
      "Traitement du fichier : ibprivat.csv\n",
      "Traitement du fichier : inmyprime.csv\n",
      "Traitement du fichier : ivanshello.csv\n",
      "Traitement du fichier : JBloom91.csv\n",
      "Traitement du fichier : Jes_Jungkook97.csv\n",
      "Traitement du fichier : jon1wt.csv\n",
      "Traitement du fichier : kamui-69.csv\n",
      "Traitement du fichier : Kleber_Fp17.csv\n",
      "Traitement du fichier : L0Lock.csv\n",
      "Traitement du fichier : Lavark99.csv\n",
      "Traitement du fichier : Leguizamon_aj.csv\n",
      "Traitement du fichier : Lourencoo.csv\n",
      "Traitement du fichier : lullaina.csv\n",
      "Traitement du fichier : lullymusic.csv\n",
      "Traitement du fichier : Maxxwi.csv\n",
      "Traitement du fichier : MegaFPyKT.csv\n",
      "Traitement du fichier : Meljiee999.csv\n",
      "Traitement du fichier : meowsaw.csv\n",
      "Traitement du fichier : MrCoolDrake.csv\n",
      "Traitement du fichier : NewRaven.csv\n",
      "Traitement du fichier : Nforgione11.csv\n",
      "Traitement du fichier : Nuwanda66.csv\n",
      "Traitement du fichier : pietzke423.csv\n",
      "Traitement du fichier : Prj1.csv\n",
      "Traitement du fichier : PurplePostRock.csv\n",
      "Traitement du fichier : Rabbit1242.csv\n",
      "Traitement du fichier : Rabenmeister.csv\n",
      "Traitement du fichier : reigndagoat.csv\n",
      "Traitement du fichier : Rhoekath.csv\n",
      "Traitement du fichier : RichSkiter.csv\n",
      "Traitement du fichier : RTHKI.csv\n",
      "Traitement du fichier : Ruisseau_Noir.csv\n",
      "Traitement du fichier : Salamandra5.csv\n",
      "Traitement du fichier : Senneh.csv\n",
      "Traitement du fichier : SilentDefender.csv\n",
      "Traitement du fichier : speedy523.csv\n",
      "Traitement du fichier : tanguy2013.csv\n",
      "Traitement du fichier : Tardifice.csv\n",
      "Traitement du fichier : theoyostyledman.csv\n",
      "Traitement du fichier : Thibunn.csv\n",
      "Traitement du fichier : vegardskogstad.csv\n",
      "Traitement du fichier : VikingIrishman.csv\n",
      "Traitement du fichier : whitlines.csv\n",
      "Traitement du fichier : xB1GY3EDx.csv\n",
      "Traitement du fichier : zabi124.csv\n",
      "Tous les fichiers combinés ont été enregistrés dans : ./dataset/data_transformed.csv\n"
     ]
    }
   ],
   "source": [
    "import pandas as pd\n",
    "import os\n",
    "\n",
    "input_folder = './dataset'\n",
    "output_file = './dataset/data_transformed.csv'\n",
    "\n",
    "all_data = []\n",
    "\n",
    "if not os.path.exists(input_folder):\n",
    "    print(f\"Le dossier spécifié n'existe pas : {input_folder}\")\n",
    "else:\n",
    "    for filename in os.listdir(input_folder):\n",
    "        if filename.endswith('.csv'):\n",
    "            file_path = os.path.join(input_folder, filename)\n",
    "            print(f\"Traitement du fichier : {filename}\")\n",
    "\n",
    "            username = os.path.basename(file_path).replace('.csv', '')\n",
    "\n",
    "            try:\n",
    "                df = pd.read_csv(file_path, header=None, names=[\"Artist\", \"Album\", \"Track\", \"Date\"])\n",
    "                df['username'] = username\n",
    "                all_data.append(df)\n",
    "            except Exception as e:\n",
    "                print(f\"Erreur lors du chargement de {filename}: {e}\")\n",
    "\n",
    "if all_data:\n",
    "    combined_data = pd.concat(all_data, ignore_index=True)\n",
    "\n",
    "    combined_data.to_csv(output_file, index=False)\n",
    "    print(f'Tous les fichiers combinés ont été enregistrés dans : {output_file}')\n",
    "else:\n",
    "    print(\"Aucun fichier CSV valide trouvé ou chargé.\")"
   ]
  },
  {
   "cell_type": "markdown",
   "id": "b49755ee",
   "metadata": {},
   "source": [
    "### 2) Conversion de la colonne date en version datetime utilisable par PowerBI"
   ]
  },
  {
   "cell_type": "code",
   "execution_count": 11,
   "id": "7b40b690",
   "metadata": {},
   "outputs": [
    {
     "name": "stdout",
     "output_type": "stream",
     "text": [
      "Le fichier avec la colonne Date convertie a été enregistré : ./dataset/data_transformed_datetime.csv\n"
     ]
    }
   ],
   "source": [
    "import pandas as pd\n",
    "\n",
    "input_file = './dataset/data_transformed.csv'\n",
    "output_file = './dataset/data_transformed_datetime.csv'\n",
    "\n",
    "df = pd.read_csv(input_file)\n",
    "\n",
    "df['Date'] = pd.to_datetime(df['Date'], format='%d %b %Y %H:%M')\n",
    "\n",
    "df.to_csv(output_file, index=False)\n",
    "print(f'Le fichier avec la colonne Date convertie a été enregistré : {output_file}')"
   ]
  },
  {
   "cell_type": "code",
   "execution_count": 15,
   "id": "1f28aa94",
   "metadata": {},
   "outputs": [
    {
     "name": "stdout",
     "output_type": "stream",
     "text": [
      "Fichier ./dataset/divided_files/data_part_1.csv créé avec 986336 lignes.\n",
      "Fichier ./dataset/divided_files/data_part_2.csv créé avec 986336 lignes.\n",
      "Fichier ./dataset/divided_files/data_part_3.csv créé avec 986336 lignes.\n",
      "Fichier ./dataset/divided_files/data_part_4.csv créé avec 986336 lignes.\n",
      "Fichier ./dataset/divided_files/data_part_5.csv créé avec 986338 lignes.\n",
      "Les fichiers ont été divisés avec succès.\n"
     ]
    }
   ],
   "source": [
    "import pandas as pd\n",
    "import os\n",
    "\n",
    "input_file = './dataset/data_transformed.csv'\n",
    "output_folder = './dataset/divided_files/'\n",
    "\n",
    "os.makedirs(output_folder, exist_ok=True)\n",
    "\n",
    "df = pd.read_csv(input_file)\n",
    "\n",
    "num_parts = 5\n",
    "\n",
    "chunk_size = len(df) // num_parts\n",
    "\n",
    "for i in range(num_parts):\n",
    "    start_idx = i * chunk_size\n",
    "    end_idx = (i + 1) * chunk_size if i < num_parts - 1 else len(df)\n",
    "    \n",
    "    chunk = df.iloc[start_idx:end_idx]\n",
    "    output_file = os.path.join(output_folder, f\"data_part_{i+1}.csv\")\n",
    "\n",
    "    chunk.to_csv(output_file, index=False)\n",
    "    print(f\"Fichier {output_file} créé avec {len(chunk)} lignes.\")\n",
    "\n",
    "print(\"Les fichiers ont été divisés avec succès.\")"
   ]
  },
  {
   "cell_type": "code",
   "execution_count": null,
   "id": "d0a5a250",
   "metadata": {},
   "outputs": [],
   "source": []
  }
 ],
 "metadata": {
  "kernelspec": {
   "display_name": "Python 3 (ipykernel)",
   "language": "python",
   "name": "python3"
  },
  "language_info": {
   "codemirror_mode": {
    "name": "ipython",
    "version": 3
   },
   "file_extension": ".py",
   "mimetype": "text/x-python",
   "name": "python",
   "nbconvert_exporter": "python",
   "pygments_lexer": "ipython3",
   "version": "3.10.9"
  }
 },
 "nbformat": 4,
 "nbformat_minor": 5
}
